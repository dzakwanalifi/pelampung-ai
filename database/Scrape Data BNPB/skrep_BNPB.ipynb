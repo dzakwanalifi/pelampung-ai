{
 "cells": [
  {
   "cell_type": "code",
   "execution_count": null,
   "metadata": {},
   "outputs": [],
   "source": [
    "# Web scraping\n",
    "from selenium import webdriver\n",
    "from bs4 import BeautifulSoup\n",
    "from webdriver_manager.chrome import ChromeDriverManager\n",
    "from selenium.webdriver.common.by import By\n",
    "\n",
    "# Data manipulation\n",
    "import pandas as pd\n",
    "\n",
    "# Regular expression\n",
    "import re"
   ]
  },
  {
   "cell_type": "code",
   "execution_count": 95,
   "metadata": {},
   "outputs": [],
   "source": [
    "# Main link\n",
    "main_link = 'https://dibi.bnpb.go.id/xdibi?pr=32&kb=01&jn=101&th=&bl=&tb=2&st=3&kf=0&start=0'"
   ]
  },
  {
   "cell_type": "code",
   "execution_count": 96,
   "metadata": {},
   "outputs": [
    {
     "name": "stderr",
     "output_type": "stream",
     "text": [
      "C:\\Users\\Acer\\AppData\\Local\\Temp\\ipykernel_26136\\774946110.py:3: DeprecationWarning: executable_path has been deprecated, please pass in a Service object\n",
      "  driver = webdriver.Chrome(ChromeDriverManager().install())\n"
     ]
    }
   ],
   "source": [
    "# Open the driver\n",
    "DRIVER_PATH = '../bin/chromedriver'\n",
    "driver = webdriver.Chrome(ChromeDriverManager().install())"
   ]
  },
  {
   "cell_type": "code",
   "execution_count": 97,
   "metadata": {},
   "outputs": [],
   "source": [
    "# Access to main link\n",
    "driver.get(main_link)"
   ]
  },
  {
   "cell_type": "code",
   "execution_count": 98,
   "metadata": {},
   "outputs": [],
   "source": [
    "# Initialize dictionary\n",
    "dict_init = {}"
   ]
  },
  {
   "cell_type": "code",
   "execution_count": 100,
   "metadata": {},
   "outputs": [
    {
     "name": "stdout",
     "output_type": "stream",
     "text": [
      "Length of data in page 1: 10 rows\n",
      "Length of data in page 2: 10 rows\n",
      "Length of data in page 3: 10 rows\n",
      "Length of data in page 4: 10 rows\n",
      "Length of data in page 5: 10 rows\n",
      "Length of data in page 6: 10 rows\n",
      "Length of data in page 7: 10 rows\n",
      "Length of data in page 8: 10 rows\n",
      "Length of data in page 9: 10 rows\n",
      "Length of data in page 10: 10 rows\n",
      "Length of data in page 11: 10 rows\n",
      "Length of data in page 12: 10 rows\n",
      "Length of data in page 13: 10 rows\n",
      "Length of data in page 14: 10 rows\n",
      "Length of data in page 15: 10 rows\n",
      "Length of data in page 16: 10 rows\n",
      "Length of data in page 17: 10 rows\n",
      "Length of data in page 18: 10 rows\n",
      "Length of data in page 19: 10 rows\n"
     ]
    },
    {
     "ename": "NoSuchElementException",
     "evalue": "Message: no such element: Unable to locate element: {\"method\":\"css selector\",\"selector\":\"a[data-ci-pagination-page=\"20\"]\"}\n  (Session info: chrome=114.0.5735.90)\nStacktrace:\nBacktrace:\n\tGetHandleVerifier [0x00D1A813+48355]\n\t(No symbol) [0x00CAC4B1]\n\t(No symbol) [0x00BB5358]\n\t(No symbol) [0x00BE09A5]\n\t(No symbol) [0x00BE0B3B]\n\t(No symbol) [0x00C0E232]\n\t(No symbol) [0x00BFA784]\n\t(No symbol) [0x00C0C922]\n\t(No symbol) [0x00BFA536]\n\t(No symbol) [0x00BD82DC]\n\t(No symbol) [0x00BD93DD]\n\tGetHandleVerifier [0x00F7AABD+2539405]\n\tGetHandleVerifier [0x00FBA78F+2800735]\n\tGetHandleVerifier [0x00FB456C+2775612]\n\tGetHandleVerifier [0x00DA51E0+616112]\n\t(No symbol) [0x00CB5F8C]\n\t(No symbol) [0x00CB2328]\n\t(No symbol) [0x00CB240B]\n\t(No symbol) [0x00CA4FF7]\n\tBaseThreadInitThunk [0x76067D59+25]\n\tRtlInitializeExceptionChain [0x77C1B74B+107]\n\tRtlClearBits [0x77C1B6CF+191]\n",
     "output_type": "error",
     "traceback": [
      "\u001b[1;31m---------------------------------------------------------------------------\u001b[0m",
      "\u001b[1;31mNoSuchElementException\u001b[0m                    Traceback (most recent call last)",
      "Cell \u001b[1;32mIn[100], line 89\u001b[0m\n\u001b[0;32m     86\u001b[0m     dict_init\u001b[39m.\u001b[39msetdefault(key, [])\u001b[39m.\u001b[39mextend(value)\n\u001b[0;32m     88\u001b[0m \u001b[39m# Go to the next page\u001b[39;00m\n\u001b[1;32m---> 89\u001b[0m next_page_link \u001b[39m=\u001b[39m driver\u001b[39m.\u001b[39;49mfind_element(By\u001b[39m.\u001b[39;49mCSS_SELECTOR, \u001b[39m'\u001b[39;49m\u001b[39ma[data-ci-pagination-page=\u001b[39;49m\u001b[39m\"\u001b[39;49m\u001b[39m{}\u001b[39;49;00m\u001b[39m\"\u001b[39;49m\u001b[39m]\u001b[39;49m\u001b[39m'\u001b[39;49m\u001b[39m.\u001b[39;49mformat(page\u001b[39m+\u001b[39;49m\u001b[39m1\u001b[39;49m))\n\u001b[0;32m     90\u001b[0m driver\u001b[39m.\u001b[39mget(next_page_link\u001b[39m.\u001b[39mget_attribute(\u001b[39m'\u001b[39m\u001b[39mhref\u001b[39m\u001b[39m'\u001b[39m))\n",
      "File \u001b[1;32md:\\Arsip IPB\\Satria Data 2023\\Scrape BNPB\\skrep\\lib\\site-packages\\selenium\\webdriver\\remote\\webdriver.py:1251\u001b[0m, in \u001b[0;36mWebDriver.find_element\u001b[1;34m(self, by, value)\u001b[0m\n\u001b[0;32m   1248\u001b[0m     by \u001b[39m=\u001b[39m By\u001b[39m.\u001b[39mCSS_SELECTOR\n\u001b[0;32m   1249\u001b[0m     value \u001b[39m=\u001b[39m \u001b[39m'\u001b[39m\u001b[39m[name=\u001b[39m\u001b[39m\"\u001b[39m\u001b[39m%s\u001b[39;00m\u001b[39m\"\u001b[39m\u001b[39m]\u001b[39m\u001b[39m'\u001b[39m \u001b[39m%\u001b[39m value\n\u001b[1;32m-> 1251\u001b[0m \u001b[39mreturn\u001b[39;00m \u001b[39mself\u001b[39;49m\u001b[39m.\u001b[39;49mexecute(Command\u001b[39m.\u001b[39;49mFIND_ELEMENT, {\n\u001b[0;32m   1252\u001b[0m     \u001b[39m'\u001b[39;49m\u001b[39musing\u001b[39;49m\u001b[39m'\u001b[39;49m: by,\n\u001b[0;32m   1253\u001b[0m     \u001b[39m'\u001b[39;49m\u001b[39mvalue\u001b[39;49m\u001b[39m'\u001b[39;49m: value})[\u001b[39m'\u001b[39m\u001b[39mvalue\u001b[39m\u001b[39m'\u001b[39m]\n",
      "File \u001b[1;32md:\\Arsip IPB\\Satria Data 2023\\Scrape BNPB\\skrep\\lib\\site-packages\\selenium\\webdriver\\remote\\webdriver.py:430\u001b[0m, in \u001b[0;36mWebDriver.execute\u001b[1;34m(self, driver_command, params)\u001b[0m\n\u001b[0;32m    428\u001b[0m response \u001b[39m=\u001b[39m \u001b[39mself\u001b[39m\u001b[39m.\u001b[39mcommand_executor\u001b[39m.\u001b[39mexecute(driver_command, params)\n\u001b[0;32m    429\u001b[0m \u001b[39mif\u001b[39;00m response:\n\u001b[1;32m--> 430\u001b[0m     \u001b[39mself\u001b[39;49m\u001b[39m.\u001b[39;49merror_handler\u001b[39m.\u001b[39;49mcheck_response(response)\n\u001b[0;32m    431\u001b[0m     response[\u001b[39m'\u001b[39m\u001b[39mvalue\u001b[39m\u001b[39m'\u001b[39m] \u001b[39m=\u001b[39m \u001b[39mself\u001b[39m\u001b[39m.\u001b[39m_unwrap_value(\n\u001b[0;32m    432\u001b[0m         response\u001b[39m.\u001b[39mget(\u001b[39m'\u001b[39m\u001b[39mvalue\u001b[39m\u001b[39m'\u001b[39m, \u001b[39mNone\u001b[39;00m))\n\u001b[0;32m    433\u001b[0m     \u001b[39mreturn\u001b[39;00m response\n",
      "File \u001b[1;32md:\\Arsip IPB\\Satria Data 2023\\Scrape BNPB\\skrep\\lib\\site-packages\\selenium\\webdriver\\remote\\errorhandler.py:247\u001b[0m, in \u001b[0;36mErrorHandler.check_response\u001b[1;34m(self, response)\u001b[0m\n\u001b[0;32m    245\u001b[0m         alert_text \u001b[39m=\u001b[39m value[\u001b[39m'\u001b[39m\u001b[39malert\u001b[39m\u001b[39m'\u001b[39m]\u001b[39m.\u001b[39mget(\u001b[39m'\u001b[39m\u001b[39mtext\u001b[39m\u001b[39m'\u001b[39m)\n\u001b[0;32m    246\u001b[0m     \u001b[39mraise\u001b[39;00m exception_class(message, screen, stacktrace, alert_text)  \u001b[39m# type: ignore[call-arg]  # mypy is not smart enough here\u001b[39;00m\n\u001b[1;32m--> 247\u001b[0m \u001b[39mraise\u001b[39;00m exception_class(message, screen, stacktrace)\n",
      "\u001b[1;31mNoSuchElementException\u001b[0m: Message: no such element: Unable to locate element: {\"method\":\"css selector\",\"selector\":\"a[data-ci-pagination-page=\"20\"]\"}\n  (Session info: chrome=114.0.5735.90)\nStacktrace:\nBacktrace:\n\tGetHandleVerifier [0x00D1A813+48355]\n\t(No symbol) [0x00CAC4B1]\n\t(No symbol) [0x00BB5358]\n\t(No symbol) [0x00BE09A5]\n\t(No symbol) [0x00BE0B3B]\n\t(No symbol) [0x00C0E232]\n\t(No symbol) [0x00BFA784]\n\t(No symbol) [0x00C0C922]\n\t(No symbol) [0x00BFA536]\n\t(No symbol) [0x00BD82DC]\n\t(No symbol) [0x00BD93DD]\n\tGetHandleVerifier [0x00F7AABD+2539405]\n\tGetHandleVerifier [0x00FBA78F+2800735]\n\tGetHandleVerifier [0x00FB456C+2775612]\n\tGetHandleVerifier [0x00DA51E0+616112]\n\t(No symbol) [0x00CB5F8C]\n\t(No symbol) [0x00CB2328]\n\t(No symbol) [0x00CB240B]\n\t(No symbol) [0x00CA4FF7]\n\tBaseThreadInitThunk [0x76067D59+25]\n\tRtlInitializeExceptionChain [0x77C1B74B+107]\n\tRtlClearBits [0x77C1B6CF+191]\n"
     ]
    }
   ],
   "source": [
    "# Find the table rows within the dataCollection element\n",
    "for page in range(1, 20):\n",
    "    dataCollection = driver.find_element(By.CLASS_NAME, 'col-md-12')\n",
    "    \n",
    "    columnCollection = dataCollection.find_element(By.TAG_NAME, 'thead').find_elements(By.TAG_NAME, 'th')\n",
    "    \n",
    "    # Get column names\n",
    "    listColNames = []\n",
    "    \n",
    "    for elemCol in columnCollection:\n",
    "        listColNames.append(elemCol.text)\n",
    "    \n",
    "    # Result\n",
    "    listCols = [re.sub('[^a-zA-Z\\d]', '', x) for x in listColNames]\n",
    "    listCols[len(listCols) - 1] = 'Links'\n",
    "    \n",
    "    # Initialize the dictionary for each page\n",
    "    dict_page = {key: [] for key in listCols}\n",
    "    \n",
    "    # Find the table rows within the dataCollection element\n",
    "    valueCollection = dataCollection.find_element(By.TAG_NAME, 'tbody').find_elements(By.TAG_NAME, 'tr')\n",
    "    print('Length of data in page {}: {} rows'.format(page, len(valueCollection)))\n",
    "    \n",
    "    # Get data\n",
    "    for row in valueCollection:\n",
    "        elemValues = row.find_elements(By.TAG_NAME, 'td')\n",
    "        for col in range(len(elemValues)):\n",
    "            try:\n",
    "                value = elemValues[col].text\n",
    "            except:\n",
    "                value = None\n",
    "            # Append values to the page dictionary\n",
    "            dict_page[list(dict_page.keys())[col]].append(value)\n",
    "    \n",
    "    # Get links\n",
    "    links = driver.find_elements(By.CLASS_NAME, 'btn.btn-info.btn-xs')\n",
    "    listLink = [link.get_attribute('href') for link in links]\n",
    "    \n",
    "    # Get the span detailed\n",
    "    spanDetailed = []\n",
    "    for i in dataCollection.find_elements(By.TAG_NAME, 'span'):\n",
    "        # Get the span type\n",
    "        spanType = i.get_attribute('data-toggle')\n",
    "        \n",
    "        # Select only popover\n",
    "        if spanType == 'popover':\n",
    "            classValue = i.get_attribute('data-original-title')\n",
    "            if re.sub('[^a-zA-Z\\d]', '', classValue) in ['Keterangan', 'Korban', 'Kerusakan']:\n",
    "                spanDetailed.append(i)\n",
    "    \n",
    "    listDetailed = []\n",
    "    for idx in range(3, len(spanDetailed) + 3, 3):\n",
    "        # Dictionary for storing data\n",
    "        dictDetailed = {}\n",
    "        \n",
    "        # Looping per 3 object\n",
    "        for j in range(idx - 3, idx):\n",
    "            classValue = re.sub('[^a-zA-Z\\d]', '', spanDetailed[j].get_attribute('data-original-title'))\n",
    "            # Get the values\n",
    "            if classValue != None:\n",
    "                dictDetailed.update(\n",
    "                    {\n",
    "                        classValue: spanDetailed[j].get_attribute('data-content')\n",
    "                    }\n",
    "                )\n",
    "            else:\n",
    "                dictDetailed.update(\n",
    "                    {\n",
    "                        classValue: None\n",
    "                    }\n",
    "                )\n",
    "        \n",
    "        # Append the dictionary\n",
    "        listDetailed.append(dictDetailed)\n",
    "    \n",
    "    # Update the page dictionary\n",
    "    dict_page.update(\n",
    "        {\n",
    "            'Detail': listDetailed,\n",
    "            'Links': listLink\n",
    "        }\n",
    "    )\n",
    "    \n",
    "    # Append the page dictionary to the main dictionary\n",
    "    for key, value in dict_page.items():\n",
    "        dict_init.setdefault(key, []).extend(value)\n",
    "    \n",
    "    # Go to the next page\n",
    "    next_page_link = driver.find_element(By.CSS_SELECTOR, 'a[data-ci-pagination-page=\"{}\"]'.format(page+1))\n",
    "    driver.get(next_page_link.get_attribute('href'))"
   ]
  },
  {
   "cell_type": "code",
   "execution_count": 91,
   "metadata": {},
   "outputs": [],
   "source": [
    "# Convert dict_init to DataFrame\n",
    "df = pd.DataFrame.from_dict(dict_init)"
   ]
  },
  {
   "cell_type": "code",
   "execution_count": 92,
   "metadata": {},
   "outputs": [],
   "source": [
    "# Export DataFrame to CSV\n",
    "df.to_csv('data.csv', index=False)"
   ]
  },
  {
   "cell_type": "code",
   "execution_count": null,
   "metadata": {},
   "outputs": [],
   "source": []
  },
  {
   "cell_type": "code",
   "execution_count": 101,
   "metadata": {},
   "outputs": [],
   "source": [
    "# Main link\n",
    "main_link_2 = 'https://dibi.bnpb.go.id/xdibi?pr=32&kb=01&jn=106&th=&bl=&tb=2&st=3&kf=0&start=0&start=0'"
   ]
  },
  {
   "cell_type": "code",
   "execution_count": 102,
   "metadata": {},
   "outputs": [],
   "source": [
    "# Access to main link\n",
    "driver.get(main_link_2)"
   ]
  },
  {
   "cell_type": "code",
   "execution_count": 103,
   "metadata": {},
   "outputs": [],
   "source": [
    "# Initialize dictionary\n",
    "dict_init_2 = {}"
   ]
  },
  {
   "cell_type": "code",
   "execution_count": 104,
   "metadata": {},
   "outputs": [
    {
     "name": "stdout",
     "output_type": "stream",
     "text": [
      "Length of data in page 1: 10 rows\n",
      "Length of data in page 2: 10 rows\n",
      "Length of data in page 3: 10 rows\n",
      "Length of data in page 4: 1 rows\n"
     ]
    },
    {
     "ename": "NoSuchElementException",
     "evalue": "Message: no such element: Unable to locate element: {\"method\":\"css selector\",\"selector\":\"a[data-ci-pagination-page=\"5\"]\"}\n  (Session info: chrome=114.0.5735.90)\nStacktrace:\nBacktrace:\n\tGetHandleVerifier [0x00D1A813+48355]\n\t(No symbol) [0x00CAC4B1]\n\t(No symbol) [0x00BB5358]\n\t(No symbol) [0x00BE09A5]\n\t(No symbol) [0x00BE0B3B]\n\t(No symbol) [0x00C0E232]\n\t(No symbol) [0x00BFA784]\n\t(No symbol) [0x00C0C922]\n\t(No symbol) [0x00BFA536]\n\t(No symbol) [0x00BD82DC]\n\t(No symbol) [0x00BD93DD]\n\tGetHandleVerifier [0x00F7AABD+2539405]\n\tGetHandleVerifier [0x00FBA78F+2800735]\n\tGetHandleVerifier [0x00FB456C+2775612]\n\tGetHandleVerifier [0x00DA51E0+616112]\n\t(No symbol) [0x00CB5F8C]\n\t(No symbol) [0x00CB2328]\n\t(No symbol) [0x00CB240B]\n\t(No symbol) [0x00CA4FF7]\n\tBaseThreadInitThunk [0x76067D59+25]\n\tRtlInitializeExceptionChain [0x77C1B74B+107]\n\tRtlClearBits [0x77C1B6CF+191]\n",
     "output_type": "error",
     "traceback": [
      "\u001b[1;31m---------------------------------------------------------------------------\u001b[0m",
      "\u001b[1;31mNoSuchElementException\u001b[0m                    Traceback (most recent call last)",
      "Cell \u001b[1;32mIn[104], line 89\u001b[0m\n\u001b[0;32m     86\u001b[0m     dict_init_2\u001b[39m.\u001b[39msetdefault(key, [])\u001b[39m.\u001b[39mextend(value)\n\u001b[0;32m     88\u001b[0m \u001b[39m# Go to the next page\u001b[39;00m\n\u001b[1;32m---> 89\u001b[0m next_page_link \u001b[39m=\u001b[39m driver\u001b[39m.\u001b[39;49mfind_element(By\u001b[39m.\u001b[39;49mCSS_SELECTOR, \u001b[39m'\u001b[39;49m\u001b[39ma[data-ci-pagination-page=\u001b[39;49m\u001b[39m\"\u001b[39;49m\u001b[39m{}\u001b[39;49;00m\u001b[39m\"\u001b[39;49m\u001b[39m]\u001b[39;49m\u001b[39m'\u001b[39;49m\u001b[39m.\u001b[39;49mformat(page\u001b[39m+\u001b[39;49m\u001b[39m1\u001b[39;49m))\n\u001b[0;32m     90\u001b[0m driver\u001b[39m.\u001b[39mget(next_page_link\u001b[39m.\u001b[39mget_attribute(\u001b[39m'\u001b[39m\u001b[39mhref\u001b[39m\u001b[39m'\u001b[39m))\n",
      "File \u001b[1;32md:\\Arsip IPB\\Satria Data 2023\\Scrape BNPB\\skrep\\lib\\site-packages\\selenium\\webdriver\\remote\\webdriver.py:1251\u001b[0m, in \u001b[0;36mWebDriver.find_element\u001b[1;34m(self, by, value)\u001b[0m\n\u001b[0;32m   1248\u001b[0m     by \u001b[39m=\u001b[39m By\u001b[39m.\u001b[39mCSS_SELECTOR\n\u001b[0;32m   1249\u001b[0m     value \u001b[39m=\u001b[39m \u001b[39m'\u001b[39m\u001b[39m[name=\u001b[39m\u001b[39m\"\u001b[39m\u001b[39m%s\u001b[39;00m\u001b[39m\"\u001b[39m\u001b[39m]\u001b[39m\u001b[39m'\u001b[39m \u001b[39m%\u001b[39m value\n\u001b[1;32m-> 1251\u001b[0m \u001b[39mreturn\u001b[39;00m \u001b[39mself\u001b[39;49m\u001b[39m.\u001b[39;49mexecute(Command\u001b[39m.\u001b[39;49mFIND_ELEMENT, {\n\u001b[0;32m   1252\u001b[0m     \u001b[39m'\u001b[39;49m\u001b[39musing\u001b[39;49m\u001b[39m'\u001b[39;49m: by,\n\u001b[0;32m   1253\u001b[0m     \u001b[39m'\u001b[39;49m\u001b[39mvalue\u001b[39;49m\u001b[39m'\u001b[39;49m: value})[\u001b[39m'\u001b[39m\u001b[39mvalue\u001b[39m\u001b[39m'\u001b[39m]\n",
      "File \u001b[1;32md:\\Arsip IPB\\Satria Data 2023\\Scrape BNPB\\skrep\\lib\\site-packages\\selenium\\webdriver\\remote\\webdriver.py:430\u001b[0m, in \u001b[0;36mWebDriver.execute\u001b[1;34m(self, driver_command, params)\u001b[0m\n\u001b[0;32m    428\u001b[0m response \u001b[39m=\u001b[39m \u001b[39mself\u001b[39m\u001b[39m.\u001b[39mcommand_executor\u001b[39m.\u001b[39mexecute(driver_command, params)\n\u001b[0;32m    429\u001b[0m \u001b[39mif\u001b[39;00m response:\n\u001b[1;32m--> 430\u001b[0m     \u001b[39mself\u001b[39;49m\u001b[39m.\u001b[39;49merror_handler\u001b[39m.\u001b[39;49mcheck_response(response)\n\u001b[0;32m    431\u001b[0m     response[\u001b[39m'\u001b[39m\u001b[39mvalue\u001b[39m\u001b[39m'\u001b[39m] \u001b[39m=\u001b[39m \u001b[39mself\u001b[39m\u001b[39m.\u001b[39m_unwrap_value(\n\u001b[0;32m    432\u001b[0m         response\u001b[39m.\u001b[39mget(\u001b[39m'\u001b[39m\u001b[39mvalue\u001b[39m\u001b[39m'\u001b[39m, \u001b[39mNone\u001b[39;00m))\n\u001b[0;32m    433\u001b[0m     \u001b[39mreturn\u001b[39;00m response\n",
      "File \u001b[1;32md:\\Arsip IPB\\Satria Data 2023\\Scrape BNPB\\skrep\\lib\\site-packages\\selenium\\webdriver\\remote\\errorhandler.py:247\u001b[0m, in \u001b[0;36mErrorHandler.check_response\u001b[1;34m(self, response)\u001b[0m\n\u001b[0;32m    245\u001b[0m         alert_text \u001b[39m=\u001b[39m value[\u001b[39m'\u001b[39m\u001b[39malert\u001b[39m\u001b[39m'\u001b[39m]\u001b[39m.\u001b[39mget(\u001b[39m'\u001b[39m\u001b[39mtext\u001b[39m\u001b[39m'\u001b[39m)\n\u001b[0;32m    246\u001b[0m     \u001b[39mraise\u001b[39;00m exception_class(message, screen, stacktrace, alert_text)  \u001b[39m# type: ignore[call-arg]  # mypy is not smart enough here\u001b[39;00m\n\u001b[1;32m--> 247\u001b[0m \u001b[39mraise\u001b[39;00m exception_class(message, screen, stacktrace)\n",
      "\u001b[1;31mNoSuchElementException\u001b[0m: Message: no such element: Unable to locate element: {\"method\":\"css selector\",\"selector\":\"a[data-ci-pagination-page=\"5\"]\"}\n  (Session info: chrome=114.0.5735.90)\nStacktrace:\nBacktrace:\n\tGetHandleVerifier [0x00D1A813+48355]\n\t(No symbol) [0x00CAC4B1]\n\t(No symbol) [0x00BB5358]\n\t(No symbol) [0x00BE09A5]\n\t(No symbol) [0x00BE0B3B]\n\t(No symbol) [0x00C0E232]\n\t(No symbol) [0x00BFA784]\n\t(No symbol) [0x00C0C922]\n\t(No symbol) [0x00BFA536]\n\t(No symbol) [0x00BD82DC]\n\t(No symbol) [0x00BD93DD]\n\tGetHandleVerifier [0x00F7AABD+2539405]\n\tGetHandleVerifier [0x00FBA78F+2800735]\n\tGetHandleVerifier [0x00FB456C+2775612]\n\tGetHandleVerifier [0x00DA51E0+616112]\n\t(No symbol) [0x00CB5F8C]\n\t(No symbol) [0x00CB2328]\n\t(No symbol) [0x00CB240B]\n\t(No symbol) [0x00CA4FF7]\n\tBaseThreadInitThunk [0x76067D59+25]\n\tRtlInitializeExceptionChain [0x77C1B74B+107]\n\tRtlClearBits [0x77C1B6CF+191]\n"
     ]
    }
   ],
   "source": [
    "# Find the table rows within the dataCollection element\n",
    "for page in range(1, 20):\n",
    "    dataCollection = driver.find_element(By.CLASS_NAME, 'col-md-12')\n",
    "    \n",
    "    columnCollection = dataCollection.find_element(By.TAG_NAME, 'thead').find_elements(By.TAG_NAME, 'th')\n",
    "    \n",
    "    # Get column names\n",
    "    listColNames = []\n",
    "    \n",
    "    for elemCol in columnCollection:\n",
    "        listColNames.append(elemCol.text)\n",
    "    \n",
    "    # Result\n",
    "    listCols = [re.sub('[^a-zA-Z\\d]', '', x) for x in listColNames]\n",
    "    listCols[len(listCols) - 1] = 'Links'\n",
    "    \n",
    "    # Initialize the dictionary for each page\n",
    "    dict_page = {key: [] for key in listCols}\n",
    "    \n",
    "    # Find the table rows within the dataCollection element\n",
    "    valueCollection = dataCollection.find_element(By.TAG_NAME, 'tbody').find_elements(By.TAG_NAME, 'tr')\n",
    "    print('Length of data in page {}: {} rows'.format(page, len(valueCollection)))\n",
    "    \n",
    "    # Get data\n",
    "    for row in valueCollection:\n",
    "        elemValues = row.find_elements(By.TAG_NAME, 'td')\n",
    "        for col in range(len(elemValues)):\n",
    "            try:\n",
    "                value = elemValues[col].text\n",
    "            except:\n",
    "                value = None\n",
    "            # Append values to the page dictionary\n",
    "            dict_page[list(dict_page.keys())[col]].append(value)\n",
    "    \n",
    "    # Get links\n",
    "    links = driver.find_elements(By.CLASS_NAME, 'btn.btn-info.btn-xs')\n",
    "    listLink = [link.get_attribute('href') for link in links]\n",
    "    \n",
    "    # Get the span detailed\n",
    "    spanDetailed = []\n",
    "    for i in dataCollection.find_elements(By.TAG_NAME, 'span'):\n",
    "        # Get the span type\n",
    "        spanType = i.get_attribute('data-toggle')\n",
    "        \n",
    "        # Select only popover\n",
    "        if spanType == 'popover':\n",
    "            classValue = i.get_attribute('data-original-title')\n",
    "            if re.sub('[^a-zA-Z\\d]', '', classValue) in ['Keterangan', 'Korban', 'Kerusakan']:\n",
    "                spanDetailed.append(i)\n",
    "    \n",
    "    listDetailed = []\n",
    "    for idx in range(3, len(spanDetailed) + 3, 3):\n",
    "        # Dictionary for storing data\n",
    "        dictDetailed = {}\n",
    "        \n",
    "        # Looping per 3 object\n",
    "        for j in range(idx - 3, idx):\n",
    "            classValue = re.sub('[^a-zA-Z\\d]', '', spanDetailed[j].get_attribute('data-original-title'))\n",
    "            # Get the values\n",
    "            if classValue != None:\n",
    "                dictDetailed.update(\n",
    "                    {\n",
    "                        classValue: spanDetailed[j].get_attribute('data-content')\n",
    "                    }\n",
    "                )\n",
    "            else:\n",
    "                dictDetailed.update(\n",
    "                    {\n",
    "                        classValue: None\n",
    "                    }\n",
    "                )\n",
    "        \n",
    "        # Append the dictionary\n",
    "        listDetailed.append(dictDetailed)\n",
    "    \n",
    "    # Update the page dictionary\n",
    "    dict_page.update(\n",
    "        {\n",
    "            'Detail': listDetailed,\n",
    "            'Links': listLink\n",
    "        }\n",
    "    )\n",
    "    \n",
    "    # Append the page dictionary to the main dictionary\n",
    "    for key, value in dict_page.items():\n",
    "        dict_init_2.setdefault(key, []).extend(value)\n",
    "    \n",
    "    # Go to the next page\n",
    "    next_page_link = driver.find_element(By.CSS_SELECTOR, 'a[data-ci-pagination-page=\"{}\"]'.format(page+1))\n",
    "    driver.get(next_page_link.get_attribute('href'))"
   ]
  },
  {
   "cell_type": "code",
   "execution_count": 105,
   "metadata": {},
   "outputs": [],
   "source": [
    "# Convert dict_init to DataFrame\n",
    "df = pd.DataFrame.from_dict(dict_init_2)"
   ]
  },
  {
   "cell_type": "code",
   "execution_count": 106,
   "metadata": {},
   "outputs": [],
   "source": [
    "# Export DataFrame to CSV\n",
    "df.to_csv('data2.csv', index=False)"
   ]
  },
  {
   "cell_type": "code",
   "execution_count": 108,
   "metadata": {},
   "outputs": [],
   "source": [
    "# Load data from CSV\n",
    "df = pd.read_csv('data_banjir.csv')\n",
    "\n",
    "# Convert DataFrame to Excel\n",
    "df.to_excel('data_banjir.xlsx', index=False)"
   ]
  },
  {
   "cell_type": "code",
   "execution_count": null,
   "metadata": {},
   "outputs": [],
   "source": []
  }
 ],
 "metadata": {
  "kernelspec": {
   "display_name": "skrep",
   "language": "python",
   "name": "python3"
  },
  "language_info": {
   "codemirror_mode": {
    "name": "ipython",
    "version": 3
   },
   "file_extension": ".py",
   "mimetype": "text/x-python",
   "name": "python",
   "nbconvert_exporter": "python",
   "pygments_lexer": "ipython3",
   "version": "3.10.9"
  },
  "orig_nbformat": 4
 },
 "nbformat": 4,
 "nbformat_minor": 2
}
