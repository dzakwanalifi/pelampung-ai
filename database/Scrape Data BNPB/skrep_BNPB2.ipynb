{
 "cells": [
  {
   "cell_type": "code",
   "execution_count": 22,
   "metadata": {},
   "outputs": [],
   "source": [
    "# Web scraping\n",
    "from selenium import webdriver\n",
    "from bs4 import BeautifulSoup\n",
    "from webdriver_manager.chrome import ChromeDriverManager\n",
    "from selenium.webdriver.common.by import By\n",
    "\n",
    "# Data manipulation\n",
    "import pandas as pd\n",
    "\n",
    "# Regular expression\n",
    "import re"
   ]
  },
  {
   "cell_type": "code",
   "execution_count": 32,
   "metadata": {},
   "outputs": [],
   "source": [
    "# Load the data from Excel\n",
    "data_banjir_olah = pd.read_excel('data_banjir_olah.xlsx')"
   ]
  },
  {
   "cell_type": "code",
   "execution_count": 24,
   "metadata": {},
   "outputs": [
    {
     "name": "stderr",
     "output_type": "stream",
     "text": [
      "C:\\Users\\Acer\\AppData\\Local\\Temp\\ipykernel_23220\\774946110.py:3: DeprecationWarning: executable_path has been deprecated, please pass in a Service object\n",
      "  driver = webdriver.Chrome(ChromeDriverManager().install())\n"
     ]
    }
   ],
   "source": [
    "# Open the driver\n",
    "DRIVER_PATH = '../bin/chromedriver'\n",
    "driver = webdriver.Chrome(ChromeDriverManager().install())"
   ]
  },
  {
   "cell_type": "code",
   "execution_count": 25,
   "metadata": {},
   "outputs": [],
   "source": [
    "# Dictionary\n",
    "dict_init = {\n",
    "    'latitude': None,\n",
    "    'longitude': None,\n",
    "    'keterangan': None,\n",
    "    'sumber': None,\n",
    "    'tgl': None,\n",
    "    'id_jenis_bencana': None,\n",
    "    'prop': None,\n",
    "    'kab': None\n",
    "}"
   ]
  },
  {
   "cell_type": "code",
   "execution_count": 28,
   "metadata": {},
   "outputs": [],
   "source": [
    "# Initialize new columns in the dataframe\n",
    "for key in dict_init.keys():\n",
    "    data_banjir_olah[key] = None\n",
    "\n",
    "# Iterate over the rows\n",
    "for index, row in data_banjir_olah.iterrows():\n",
    "    link = row['Links']\n",
    "    # Access to main link\n",
    "    driver.get(link)\n",
    "    \n",
    "    # Get the values\n",
    "    for key in dict_init.keys():\n",
    "        dict_init[key] = driver.find_element(By.NAME, key).get_attribute('value')\n",
    "    \n",
    "    # Assign values to the dataframe\n",
    "    for key, value in dict_init.items():\n",
    "        data_banjir_olah.at[index, key] = value"
   ]
  },
  {
   "cell_type": "code",
   "execution_count": 29,
   "metadata": {},
   "outputs": [],
   "source": [
    "data_banjir_olah.to_excel('data_banjir_updated.xlsx', index=False)"
   ]
  },
  {
   "cell_type": "code",
   "execution_count": null,
   "metadata": {},
   "outputs": [],
   "source": []
  },
  {
   "cell_type": "code",
   "execution_count": 33,
   "metadata": {},
   "outputs": [],
   "source": [
    "# Load the data from Excel\n",
    "data_kering_olah = pd.read_excel('data_kering_olah.xlsx')"
   ]
  },
  {
   "cell_type": "code",
   "execution_count": 34,
   "metadata": {},
   "outputs": [
    {
     "name": "stderr",
     "output_type": "stream",
     "text": [
      "C:\\Users\\Acer\\AppData\\Local\\Temp\\ipykernel_23220\\774946110.py:3: DeprecationWarning: executable_path has been deprecated, please pass in a Service object\n",
      "  driver = webdriver.Chrome(ChromeDriverManager().install())\n"
     ]
    }
   ],
   "source": [
    "# Open the driver\n",
    "DRIVER_PATH = '../bin/chromedriver'\n",
    "driver = webdriver.Chrome(ChromeDriverManager().install())"
   ]
  },
  {
   "cell_type": "code",
   "execution_count": 35,
   "metadata": {},
   "outputs": [],
   "source": [
    "# Dictionary\n",
    "dict_init = {\n",
    "    'latitude': None,\n",
    "    'longitude': None,\n",
    "    'keterangan': None,\n",
    "    'sumber': None,\n",
    "    'tgl': None,\n",
    "    'id_jenis_bencana': None,\n",
    "    'prop': None,\n",
    "    'kab': None\n",
    "}"
   ]
  },
  {
   "cell_type": "code",
   "execution_count": 37,
   "metadata": {},
   "outputs": [],
   "source": [
    "# Initialize new columns in the dataframe\n",
    "for key in dict_init.keys():\n",
    "    data_kering_olah[key] = None\n",
    "\n",
    "# Iterate over the rows\n",
    "for index, row in data_kering_olah.iterrows():\n",
    "    link = row['Links']\n",
    "    # Access to main link\n",
    "    driver.get(link)\n",
    "    \n",
    "    # Get the values\n",
    "    for key in dict_init.keys():\n",
    "        dict_init[key] = driver.find_element(By.NAME, key).get_attribute('value')\n",
    "    \n",
    "    # Assign values to the dataframe\n",
    "    for key, value in dict_init.items():\n",
    "        data_kering_olah.at[index, key] = value"
   ]
  },
  {
   "cell_type": "code",
   "execution_count": 38,
   "metadata": {},
   "outputs": [],
   "source": [
    "data_kering_olah.to_excel('data_kering_updated.xlsx', index=False)"
   ]
  },
  {
   "cell_type": "code",
   "execution_count": null,
   "metadata": {},
   "outputs": [],
   "source": []
  }
 ],
 "metadata": {
  "kernelspec": {
   "display_name": "skrep",
   "language": "python",
   "name": "python3"
  },
  "language_info": {
   "codemirror_mode": {
    "name": "ipython",
    "version": 3
   },
   "file_extension": ".py",
   "mimetype": "text/x-python",
   "name": "python",
   "nbconvert_exporter": "python",
   "pygments_lexer": "ipython3",
   "version": "3.10.9"
  },
  "orig_nbformat": 4
 },
 "nbformat": 4,
 "nbformat_minor": 2
}
